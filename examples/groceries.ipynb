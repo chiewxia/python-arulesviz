{
 "cells": [
  {
   "cell_type": "code",
   "execution_count": 1,
   "metadata": {},
   "outputs": [
    {
     "data": {
      "text/html": [
       "<style>#notebook { padding-top:0px !important;margin-left:-30px !important; } .container { width:100% !important; } .end_space { min-height:0px !important; } </style>"
      ],
      "text/plain": [
       "<IPython.core.display.HTML object>"
      ]
     },
     "metadata": {},
     "output_type": "display_data"
    }
   ],
   "source": [
    "from IPython.core.display import display, HTML\n",
    "from IPython import get_ipython as get_ipython\n",
    "display(HTML(\n",
    "    '<style>'\n",
    "        '#notebook { padding-top:0px !important;margin-left:-30px !important; } ' \n",
    "        '.container { width:100% !important; } '\n",
    "        '.end_space { min-height:0px !important; } '\n",
    "    '</style>'\n",
    "))"
   ]
  },
  {
   "cell_type": "code",
   "execution_count": 2,
   "metadata": {},
   "outputs": [],
   "source": [
    "from bqplot import LinearScale, Scatter, Axis, Figure, Tooltip, ColorScale, Graph\n",
    "from ipywidgets import Layout, widgets"
   ]
  },
  {
   "cell_type": "code",
   "execution_count": 3,
   "metadata": {},
   "outputs": [],
   "source": [
    "from ipywidgets import TwoByTwoLayout"
   ]
  },
  {
   "cell_type": "code",
   "execution_count": 4,
   "metadata": {},
   "outputs": [],
   "source": [
    "import numpy as np"
   ]
  },
  {
   "cell_type": "code",
   "execution_count": 5,
   "metadata": {},
   "outputs": [],
   "source": [
    "transactions = []\n",
    "to_drop = set() #set(['other vegetables', 'whole milk', 'yogurt', 'root vegetables', 'fruit/vegetable juice'])\n",
    "with open('./data/groceries.csv') as f:\n",
    "    for row in f:\n",
    "        q = set(row.strip().split(',')) - to_drop\n",
    "        if len(q) > 1:\n",
    "            transactions.append(q)"
   ]
  },
  {
   "cell_type": "code",
   "execution_count": 6,
   "metadata": {},
   "outputs": [],
   "source": [
    "from arulesviz import Arulesviz"
   ]
  },
  {
   "cell_type": "code",
   "execution_count": 7,
   "metadata": {},
   "outputs": [],
   "source": [
    "g = Arulesviz(transactions, 0.001, 0.3, 12, products_to_drop=['other vegetables', 'whole milk',\n",
    "                                                              'yogurt', 'root vegetables',\n",
    "                                                              'fruit/vegetable juice'])"
   ]
  },
  {
   "cell_type": "code",
   "execution_count": 8,
   "metadata": {},
   "outputs": [],
   "source": [
    "g.create_rules()"
   ]
  },
  {
   "cell_type": "code",
   "execution_count": 9,
   "metadata": {
    "scrolled": false
   },
   "outputs": [
    {
     "data": {
      "application/vnd.jupyter.widget-view+json": {
       "model_id": "0822b0e983e44bb7a796c55dec90f7cc",
       "version_major": 2,
       "version_minor": 0
      },
      "text/plain": [
       "VBox(children=(HBox(children=(SelectMultiple(index=(0, 1, 2, 3, 4, 5, 6, 7, 8, 9, 10, 11, 12, 13, 14, 15, 16, …"
      ]
     },
     "metadata": {},
     "output_type": "display_data"
    }
   ],
   "source": [
    "g.plot_graph(width=1800, directed=False, charge=-150, link_distance=20)"
   ]
  },
  {
   "cell_type": "code",
   "execution_count": 10,
   "metadata": {},
   "outputs": [],
   "source": [
    "sc = g.plot_scatter(['mustard'], with_toolbar=True)"
   ]
  },
  {
   "cell_type": "code",
   "execution_count": 11,
   "metadata": {},
   "outputs": [
    {
     "data": {
      "application/vnd.jupyter.widget-view+json": {
       "model_id": "54fa6815c4fa41cf887f7d15afa6a8f2",
       "version_major": 2,
       "version_minor": 0
      },
      "text/plain": [
       "VBox(children=(Figure(axes=[Axis(label='Sup*100', scale=LinearScale()), Axis(label='Conf*100', orientation='ve…"
      ]
     },
     "metadata": {},
     "output_type": "display_data"
    }
   ],
   "source": [
    "sc"
   ]
  },
  {
   "cell_type": "code",
   "execution_count": 12,
   "metadata": {},
   "outputs": [],
   "source": [
    "#Graph?"
   ]
  },
  {
   "cell_type": "code",
   "execution_count": 13,
   "metadata": {},
   "outputs": [
    {
     "ename": "NameError",
     "evalue": "name 'qwe' is not defined",
     "output_type": "error",
     "traceback": [
      "\u001b[0;31m---------------------------------------------------------------------------\u001b[0m",
      "\u001b[0;31mNameError\u001b[0m                                 Traceback (most recent call last)",
      "\u001b[0;32m<ipython-input-13-c71de136f937>\u001b[0m in \u001b[0;36m<module>\u001b[0;34m\u001b[0m\n\u001b[0;32m----> 1\u001b[0;31m \u001b[0mqwe\u001b[0m\u001b[0;34m\u001b[0m\u001b[0;34m\u001b[0m\u001b[0m\n\u001b[0m",
      "\u001b[0;31mNameError\u001b[0m: name 'qwe' is not defined"
     ]
    }
   ],
   "source": [
    "qwe"
   ]
  },
  {
   "cell_type": "code",
   "execution_count": null,
   "metadata": {},
   "outputs": [],
   "source": [
    "sc_x = LinearScale()\n",
    "sc_y = LinearScale()\n",
    "\n",
    "scatt = Scatter(x=[0], y=[1], scales={'x': sc_x, 'y': sc_y})\n",
    "ax_x = Axis(scale=sc_x, label='Date')\n",
    "ax_y = Axis(scale=sc_y, label='Security 2')\n",
    "\n",
    "fig_tooltip = Figure(marks=[scatt], axes=[ax_x, ax_y], layout=Layout(min_width='600px', min_height='600px', max_width='600px', max_height='600px'))"
   ]
  },
  {
   "cell_type": "code",
   "execution_count": null,
   "metadata": {},
   "outputs": [],
   "source": [
    "g.fig.marks[0].tooltip = fig_tooltip"
   ]
  },
  {
   "cell_type": "code",
   "execution_count": null,
   "metadata": {},
   "outputs": [],
   "source": [
    "# Update the tooltip chart\n",
    "hovered_symbol = ''\n",
    "def hover_handler(self, content):\n",
    "    print(self)\n",
    "    global hovered_symbol\n",
    "    symbol = content.get('data',{}).get('label', -1)\n",
    "    data_x = content.get('data',{}).get('data_x',[])\n",
    "    data_y = content.get('data',{}).get('data_y',[])\n",
    "    x = content.get('data',{}).get('x',[])\n",
    "    y = content.get('data',{}).get('y',[])\n",
    "    print(content)\n",
    "#    print(content)\n",
    "    if(symbol != hovered_symbol):\n",
    "        hovered_symbol = symbol\n",
    "        sc_x = LinearScale()\n",
    "        sc_y = LinearScale()\n",
    "\n",
    "        scatt = Scatter(x=data_x, y=data_y, scales={'x': sc_x, 'y': sc_y})\n",
    "        ax_x = Axis(scale=sc_x, label='Date')\n",
    "        ax_y = Axis(scale=sc_y, label='Security 2', orientation='vertical')\n",
    "\n",
    "        fig_tooltip = Figure(marks=[scatt], axes=[ax_x, ax_y], layout=Layout(min_width='600px', min_height='600px', max_width='600px', max_height='600px'))\n",
    "        #fig_tooltip.title = content.get('ref_data', {}).get('Name', '')\n",
    "        g.fig.marks[0].tooltip = fig_tooltip\n",
    "        g.fig.marks[0].tooltip_location = 'mouse'\n",
    "\n",
    "# Custom msg sent when a particular cell is hovered on\n",
    "g.fig.marks[0].on_hover(hover_handler)"
   ]
  },
  {
   "cell_type": "code",
   "execution_count": null,
   "metadata": {},
   "outputs": [],
   "source": [
    "size = 100\n",
    "np.random.seed(0)\n",
    "x_data = range(size)\n",
    "y_data = np.cumsum(np.random.randn(size) * 100.0)\n",
    "x_sc = LinearScale()\n",
    "y_sc = LinearScale()\n",
    "\n",
    "x_data = x_data[:50]\n",
    "y_data = y_data[:50]\n",
    "\n",
    "#def_tt = Tooltip(fields=['x', 'y'], formats=['', '.2f'])\n",
    "\n",
    "scatter_chart = Scatter(x=x_data, y=y_data, scales= {'x': x_sc, 'y': y_sc}, colors=['dodgerblue'], unhovered_style={'opacity': 0.5})\n",
    "ax_x = Axis(scale=x_sc)\n",
    "ax_y = Axis(scale=y_sc, orientation='vertical', tick_format='0.2f')\n",
    "\n",
    "aa = Figure(marks=[scatter_chart], axes=[ax_x, ax_y])"
   ]
  },
  {
   "cell_type": "code",
   "execution_count": null,
   "metadata": {},
   "outputs": [],
   "source": []
  }
 ],
 "metadata": {
  "kernelspec": {
   "display_name": "Python 3",
   "language": "python",
   "name": "python3"
  },
  "language_info": {
   "codemirror_mode": {
    "name": "ipython",
    "version": 3
   },
   "file_extension": ".py",
   "mimetype": "text/x-python",
   "name": "python",
   "nbconvert_exporter": "python",
   "pygments_lexer": "ipython3",
   "version": "3.7.6"
  }
 },
 "nbformat": 4,
 "nbformat_minor": 4
}
